{
 "cells": [
  {
   "cell_type": "markdown",
   "metadata": {},
   "source": [
    "# Load libraries"
   ]
  },
  {
   "cell_type": "code",
   "execution_count": null,
   "metadata": {},
   "outputs": [],
   "source": [
    "import pandas as pd\n",
    "import numpy as np\n",
    "import matplotlib.pyplot as plt\n",
    "\n",
    "from scipy.stats import norm\n",
    "\n",
    "from sklearn.model_selection import train_test_split, GridSearchCV\n",
    "from sklearn.metrics import mean_squared_error\n",
    "from sklearn.pipeline import make_pipeline\n",
    "from sklearn.preprocessing import StandardScaler, PolynomialFeatures\n",
    "from sklearn.linear_model import LinearRegression, ElasticNet\n",
    "\n",
    "# conda install -c conda-forge xgboost -y\n",
    "from xgboost import XGBRegressor"
   ]
  },
  {
   "cell_type": "markdown",
   "metadata": {},
   "source": [
    "# Set notebook parameters"
   ]
  },
  {
   "cell_type": "code",
   "execution_count": null,
   "metadata": {},
   "outputs": [],
   "source": [
    "PLOT_SIZE = 16\n",
    "SAMPLE_SIZE = 200\n",
    "SEED = 2021"
   ]
  },
  {
   "cell_type": "markdown",
   "metadata": {},
   "source": [
    "# Define ground truth"
   ]
  },
  {
   "cell_type": "code",
   "execution_count": null,
   "metadata": {},
   "outputs": [],
   "source": [
    "def true_function(x):\n",
    "    return(np.exp(x)/(x**4+1) + x*np.sin(x)/3 + 0.1 * x)"
   ]
  },
  {
   "cell_type": "code",
   "execution_count": null,
   "metadata": {},
   "outputs": [],
   "source": [
    "x_min = -10\n",
    "x_max = 10"
   ]
  },
  {
   "cell_type": "code",
   "execution_count": null,
   "metadata": {},
   "outputs": [],
   "source": [
    "x = np.arange(x_min, x_max, 0.1)\n",
    "f_x = true_function(x) "
   ]
  },
  {
   "cell_type": "code",
   "execution_count": null,
   "metadata": {},
   "outputs": [],
   "source": [
    "fig, ax = plt.subplots(1, 1, figsize=(PLOT_SIZE, PLOT_SIZE/2))\n",
    "\n",
    "ax.plot(x, f_x)\n",
    "ax.set_xlabel('x')\n",
    "ax.set_ylabel('y')\n",
    "\n",
    "plt.show()"
   ]
  },
  {
   "cell_type": "markdown",
   "metadata": {},
   "source": [
    "# Sampling the data"
   ]
  },
  {
   "cell_type": "code",
   "execution_count": null,
   "metadata": {},
   "outputs": [],
   "source": [
    "def get_epsilon(confidence):\n",
    "    return(norm.ppf(1-((1-confidence)/2)))\n",
    "\n",
    "e_90 = get_epsilon(0.9)\n",
    "e_95 = get_epsilon(0.95)\n",
    "e_99 = get_epsilon(0.99)"
   ]
  },
  {
   "cell_type": "code",
   "execution_count": null,
   "metadata": {},
   "outputs": [],
   "source": [
    "e_99"
   ]
  },
  {
   "cell_type": "code",
   "execution_count": null,
   "metadata": {},
   "outputs": [],
   "source": [
    "fig, ax = plt.subplots(1, 1, figsize=(PLOT_SIZE, PLOT_SIZE/2))\n",
    "\n",
    "plt.plot(x, f_x)\n",
    "#ax.fill_between(x, f_x + e_80, f_x - e_80, color = '#696969', alpha = 0.3)\n",
    "ax.fill_between(x, f_x + e_90, f_x - e_90, color = '#A9A9A9', alpha = 0.3)\n",
    "ax.fill_between(x, f_x + e_95, f_x - e_95, color = '#D3D3D3', alpha = 0.3)\n",
    "ax.fill_between(x, f_x + e_99, f_x - e_99, color = '#DCDCDC', alpha = 0.3)\n",
    "\n",
    "ax.set_xlabel('x')\n",
    "ax.set_ylabel('y')\n",
    "\n",
    "plt.show()"
   ]
  },
  {
   "cell_type": "code",
   "execution_count": null,
   "metadata": {},
   "outputs": [],
   "source": [
    "np.random.seed(seed=SEED)\n",
    "x_ = np.random.choice(x, SAMPLE_SIZE)\n",
    "y_ = true_function(x_) + np.random.normal(size=SAMPLE_SIZE)"
   ]
  },
  {
   "cell_type": "code",
   "execution_count": null,
   "metadata": {},
   "outputs": [],
   "source": [
    "fig, ax = plt.subplots(2, 1, figsize=(PLOT_SIZE, PLOT_SIZE/2))\n",
    "\n",
    "ax[0].set_title('What we have')\n",
    "ax[0].scatter(x_, y_)\n",
    "\n",
    "ax[1].set_title('What we want to learn')\n",
    "ax[1].plot(x, f_x)\n",
    "ax[1].fill_between(x, f_x + e_95, f_x - e_95, color = '#DCDCDC', alpha = 0.3)\n",
    "\n",
    "plt.show()"
   ]
  },
  {
   "cell_type": "markdown",
   "metadata": {},
   "source": [
    "# Split train and test"
   ]
  },
  {
   "cell_type": "code",
   "execution_count": null,
   "metadata": {},
   "outputs": [],
   "source": [
    "X_train, X_test, y_train, y_test = train_test_split(\n",
    "    x_,\n",
    "    y_, \n",
    "    random_state=SEED+1)"
   ]
  },
  {
   "cell_type": "code",
   "execution_count": null,
   "metadata": {},
   "outputs": [],
   "source": [
    "fig, ax = plt.subplots(1, 1, figsize=(PLOT_SIZE, PLOT_SIZE/2))\n",
    "\n",
    "#ax.plot(x, f_x)\n",
    "ax.scatter(X_train, y_train, color='blue')\n",
    "ax.scatter(X_test, y_test, color='red')\n",
    "\n",
    "ax.set_xlabel('x')\n",
    "ax.set_ylabel('y')\n",
    "\n",
    "plt.show()"
   ]
  },
  {
   "cell_type": "markdown",
   "metadata": {},
   "source": [
    "# Modeling"
   ]
  },
  {
   "cell_type": "markdown",
   "metadata": {},
   "source": [
    "## Baseline"
   ]
  },
  {
   "cell_type": "code",
   "execution_count": null,
   "metadata": {},
   "outputs": [],
   "source": [
    "def fx_baseline(x):\n",
    "    return(np.mean(y_train))"
   ]
  },
  {
   "cell_type": "code",
   "execution_count": null,
   "metadata": {},
   "outputs": [],
   "source": [
    "fx_baseline(10)"
   ]
  },
  {
   "cell_type": "code",
   "execution_count": null,
   "metadata": {},
   "outputs": [],
   "source": [
    "fig, ax = plt.subplots(1, 1, figsize=(PLOT_SIZE, PLOT_SIZE/2))\n",
    "\n",
    "#ax.plot(x, f_x)\n",
    "fx_plot = [fx_baseline(x) for x in x]\n",
    "ax.plot(x, fx_plot)\n",
    "ax.scatter(X_test, y_test, color='red')\n",
    "\n",
    "ax.set_xlabel('x')\n",
    "ax.set_ylabel('y')\n",
    "\n",
    "plt.show()"
   ]
  },
  {
   "cell_type": "code",
   "execution_count": null,
   "metadata": {},
   "outputs": [],
   "source": [
    "fx_test_baseline = [fx_baseline(x) for x in X_test]\n",
    "rmse_baseline = mean_squared_error(y_test, fx_test_baseline, squared=False)\n",
    "print('RMSE (Baseline): ' + str(round(rmse_baseline, 2)))"
   ]
  },
  {
   "cell_type": "markdown",
   "metadata": {},
   "source": [
    "## Linear Regression"
   ]
  },
  {
   "cell_type": "code",
   "execution_count": null,
   "metadata": {},
   "outputs": [],
   "source": [
    "linear_model = make_pipeline(StandardScaler(), LinearRegression())"
   ]
  },
  {
   "cell_type": "code",
   "execution_count": null,
   "metadata": {},
   "outputs": [],
   "source": [
    "X_train_ = X_train.reshape(-1, 1)\n",
    "X_test_ = X_test.reshape(-1, 1)"
   ]
  },
  {
   "cell_type": "code",
   "execution_count": null,
   "metadata": {},
   "outputs": [],
   "source": [
    "linear_model.fit(X_train_, y_train)"
   ]
  },
  {
   "cell_type": "code",
   "execution_count": null,
   "metadata": {},
   "outputs": [],
   "source": [
    "def fx_lr(x):\n",
    "    return(linear_model.predict(x))"
   ]
  },
  {
   "cell_type": "code",
   "execution_count": null,
   "metadata": {},
   "outputs": [],
   "source": [
    "fig, ax = plt.subplots(1, 1, figsize=(PLOT_SIZE, PLOT_SIZE/2))\n",
    "\n",
    "#ax.plot(x, f_x)\n",
    "fx_plot = fx_lr(x.reshape(-1, 1))\n",
    "ax.plot(x, fx_plot)\n",
    "ax.scatter(X_test, y_test, color='red')\n",
    "\n",
    "ax.set_xlabel('x')\n",
    "ax.set_ylabel('y')\n",
    "\n",
    "plt.show()"
   ]
  },
  {
   "cell_type": "code",
   "execution_count": null,
   "metadata": {},
   "outputs": [],
   "source": [
    "fx_test_lr = fx_lr(X_test_)\n",
    "rmse_lr = mean_squared_error(y_test, fx_test_lr, squared=False)\n",
    "print('RMSE (Baseline): ' + str(round(rmse_baseline, 3)))\n",
    "print('RMSE (Linear Regression): ' + str(round(rmse_lr, 3)))"
   ]
  },
  {
   "cell_type": "markdown",
   "metadata": {},
   "source": [
    "## Quadratic Regression"
   ]
  },
  {
   "cell_type": "code",
   "execution_count": null,
   "metadata": {},
   "outputs": [],
   "source": [
    "quadratic_model = make_pipeline(\n",
    "    StandardScaler(),\n",
    "    PolynomialFeatures(degree=2, interaction_only=False),\n",
    "    LinearRegression()\n",
    ")"
   ]
  },
  {
   "cell_type": "code",
   "execution_count": null,
   "metadata": {},
   "outputs": [],
   "source": [
    "quadratic_model.fit(X_train_, y_train)"
   ]
  },
  {
   "cell_type": "code",
   "execution_count": null,
   "metadata": {},
   "outputs": [],
   "source": [
    "def fx_qr(x):\n",
    "    return(quadratic_model.predict(x))"
   ]
  },
  {
   "cell_type": "code",
   "execution_count": null,
   "metadata": {},
   "outputs": [],
   "source": [
    "fig, ax = plt.subplots(1, 1, figsize=(PLOT_SIZE, PLOT_SIZE/2))\n",
    "\n",
    "#ax.plot(x, f_x)\n",
    "fx_plot = fx_qr(x.reshape(-1, 1))\n",
    "ax.plot(x, fx_plot)\n",
    "ax.scatter(X_test, y_test, color='red')\n",
    "\n",
    "ax.set_xlabel('x')\n",
    "ax.set_ylabel('y')\n",
    "\n",
    "plt.show()"
   ]
  },
  {
   "cell_type": "code",
   "execution_count": null,
   "metadata": {},
   "outputs": [],
   "source": [
    "fx_test_qr = fx_qr(X_test_)\n",
    "rmse_qr = mean_squared_error(y_test, fx_test_qr, squared=False)\n",
    "print('RMSE (Baseline): ' + str(round(rmse_baseline, 3)))\n",
    "print('RMSE (Linear Regression): ' + str(round(rmse_lr, 3)))\n",
    "print('RMSE (Quadratic Regression): ' + str(round(rmse_qr, 3)))"
   ]
  },
  {
   "cell_type": "markdown",
   "metadata": {},
   "source": [
    "## Polynomial Regression (fixed degree)"
   ]
  },
  {
   "cell_type": "code",
   "execution_count": null,
   "metadata": {},
   "outputs": [],
   "source": [
    "polynomial_model = make_pipeline(\n",
    "    PolynomialFeatures(degree=50, interaction_only=False),\n",
    "    StandardScaler(),\n",
    "    LinearRegression()\n",
    ")"
   ]
  },
  {
   "cell_type": "code",
   "execution_count": null,
   "metadata": {},
   "outputs": [],
   "source": [
    "polynomial_model.fit(X_train_, y_train)"
   ]
  },
  {
   "cell_type": "code",
   "execution_count": null,
   "metadata": {},
   "outputs": [],
   "source": [
    "def fx_pr(x):\n",
    "    return(polynomial_model.predict(x))"
   ]
  },
  {
   "cell_type": "code",
   "execution_count": null,
   "metadata": {},
   "outputs": [],
   "source": [
    "fig, ax = plt.subplots(1, 1, figsize=(PLOT_SIZE, PLOT_SIZE/2))\n",
    "\n",
    "#ax.plot(x, f_x)\n",
    "fx_plot = fx_pr(x.reshape(-1, 1))\n",
    "ax.plot(x, fx_plot)\n",
    "ax.scatter(X_test, y_test, color='red')\n",
    "\n",
    "ax.set_xlabel('x')\n",
    "ax.set_ylabel('y')\n",
    "\n",
    "plt.ylim(-15,15)\n",
    "\n",
    "plt.show()"
   ]
  },
  {
   "cell_type": "code",
   "execution_count": null,
   "metadata": {},
   "outputs": [],
   "source": [
    "fig, ax = plt.subplots(1, 1, figsize=(PLOT_SIZE, PLOT_SIZE/2))\n",
    "\n",
    "#ax.plot(x, f_x)\n",
    "fx_plot = fx_pr(x.reshape(-1, 1))\n",
    "ax.plot(x, fx_plot)\n",
    "ax.scatter(X_test, y_test, color='red')\n",
    "ax.scatter(X_train, y_train, color='blue')\n",
    "\n",
    "ax.set_xlabel('x')\n",
    "ax.set_ylabel('y')\n",
    "\n",
    "plt.ylim(-15,15)\n",
    "\n",
    "plt.show()"
   ]
  },
  {
   "cell_type": "code",
   "execution_count": null,
   "metadata": {},
   "outputs": [],
   "source": [
    "fx_test_pr = fx_pr(X_test_)\n",
    "rmse_pr = mean_squared_error(y_test, fx_test_pr, squared=False)\n",
    "print('RMSE (Baseline): ' + str(round(rmse_baseline, 3)))\n",
    "print('RMSE (Linear Regression): ' + str(round(rmse_lr, 3)))\n",
    "print('RMSE (Quadratic Regression): ' + str(round(rmse_qr, 3)))\n",
    "print('RMSE (Polynomial Regression - n=20): ' + str(round(rmse_pr, 3)))"
   ]
  },
  {
   "cell_type": "markdown",
   "metadata": {},
   "source": [
    "## Polynomial Regression (optimized degree)"
   ]
  },
  {
   "cell_type": "code",
   "execution_count": null,
   "metadata": {},
   "outputs": [],
   "source": [
    "param_grid_polynomial = {'polynomialfeatures__degree': np.arange(20)}\n",
    "grid_polynomial = GridSearchCV(polynomial_model, param_grid_polynomial, cv=5)\n",
    "np.random.seed(SEED)\n",
    "grid_polynomial.fit(X_train_, y_train)"
   ]
  },
  {
   "cell_type": "code",
   "execution_count": null,
   "metadata": {},
   "outputs": [],
   "source": [
    "grid_polynomial.best_params_['polynomialfeatures__degree']"
   ]
  },
  {
   "cell_type": "code",
   "execution_count": null,
   "metadata": {},
   "outputs": [],
   "source": [
    "def fx_gpr(x):\n",
    "    return(grid_polynomial.predict(x))"
   ]
  },
  {
   "cell_type": "code",
   "execution_count": null,
   "metadata": {},
   "outputs": [],
   "source": [
    "fig, ax = plt.subplots(1, 1, figsize=(PLOT_SIZE, PLOT_SIZE/2))\n",
    "\n",
    "#ax.plot(x, f_x)\n",
    "fx_plot = fx_gpr(x.reshape(-1, 1))\n",
    "ax.plot(x, fx_plot)\n",
    "ax.scatter(X_test, y_test, color='red')\n",
    "\n",
    "ax.set_xlabel('x')\n",
    "ax.set_ylabel('y')\n",
    "\n",
    "plt.show()"
   ]
  },
  {
   "cell_type": "code",
   "execution_count": null,
   "metadata": {},
   "outputs": [],
   "source": [
    "fx_test_gpr = fx_gpr(X_test_)\n",
    "rmse_gpr = mean_squared_error(y_test, fx_test_gpr, squared=False)\n",
    "print('RMSE (Baseline): ' + str(round(rmse_baseline, 3)))\n",
    "print('RMSE (Linear Regression): ' + str(round(rmse_lr, 3)))\n",
    "print('RMSE (Quadratic Regression): ' + str(round(rmse_qr, 3)))\n",
    "print('RMSE (Polynomial Regression): ' + str(round(rmse_gpr, 3)))"
   ]
  },
  {
   "cell_type": "code",
   "execution_count": null,
   "metadata": {},
   "outputs": [],
   "source": [
    "elasticnet_model = make_pipeline(\n",
    "    PolynomialFeatures(interaction_only=False),\n",
    "    StandardScaler(),\n",
    "    ElasticNet(max_iter=1e5)\n",
    ")"
   ]
  },
  {
   "cell_type": "code",
   "execution_count": null,
   "metadata": {},
   "outputs": [],
   "source": [
    "param_grid_elasticnet = {\n",
    "    'polynomialfeatures__degree': np.arange(5,9),\n",
    "    'elasticnet__alpha': np.logspace(-2,0,3),\n",
    "    'elasticnet__l1_ratio': np.linspace(0,1,5)\n",
    "}\n",
    "grid_elasticnet = GridSearchCV(elasticnet_model, param_grid_elasticnet, cv=5)\n",
    "np.random.seed(SEED)\n",
    "grid_elasticnet.fit(X_train_, y_train)"
   ]
  },
  {
   "cell_type": "code",
   "execution_count": null,
   "metadata": {},
   "outputs": [],
   "source": [
    "grid_elasticnet.best_params_"
   ]
  },
  {
   "cell_type": "code",
   "execution_count": null,
   "metadata": {},
   "outputs": [],
   "source": [
    "def fx_en(x):\n",
    "    return(grid_elasticnet.predict(x))"
   ]
  },
  {
   "cell_type": "code",
   "execution_count": null,
   "metadata": {},
   "outputs": [],
   "source": [
    "fig, ax = plt.subplots(1, 1, figsize=(PLOT_SIZE, PLOT_SIZE/2))\n",
    "\n",
    "#ax.plot(x, f_x)\n",
    "fx_plot = fx_en(x.reshape(-1, 1))\n",
    "ax.plot(x, fx_plot)\n",
    "ax.scatter(X_test, y_test, color='red')\n",
    "\n",
    "ax.set_xlabel('x')\n",
    "ax.set_ylabel('y')\n",
    "\n",
    "plt.show()"
   ]
  },
  {
   "cell_type": "code",
   "execution_count": null,
   "metadata": {},
   "outputs": [],
   "source": [
    "fx_test_en = fx_en(X_test_)\n",
    "rmse_en = mean_squared_error(y_test, fx_test_en, squared=False)\n",
    "print('RMSE (Baseline): ' + str(round(rmse_baseline, 3)))\n",
    "print('RMSE (Linear Regression): ' + str(round(rmse_lr, 3)))\n",
    "print('RMSE (Quadratic Regression): ' + str(round(rmse_qr, 3)))\n",
    "print('RMSE (Polynomial Regression): ' + str(round(rmse_gpr, 3)))\n",
    "print('RMSE (Elastic Net): ' + str(round(rmse_en, 3)))"
   ]
  },
  {
   "cell_type": "markdown",
   "metadata": {},
   "source": [
    "## XGBoost Regression"
   ]
  },
  {
   "cell_type": "code",
   "execution_count": null,
   "metadata": {},
   "outputs": [],
   "source": [
    "xgb_model = make_pipeline(\n",
    "    PolynomialFeatures(interaction_only=False),\n",
    "    StandardScaler(),\n",
    "    XGBRegressor()\n",
    ")"
   ]
  },
  {
   "cell_type": "code",
   "execution_count": null,
   "metadata": {},
   "outputs": [],
   "source": [
    "param_grid_xgb = {\n",
    "    'polynomialfeatures__degree': np.arange(10,20),\n",
    "    'xgbregressor__n_estimators': [5,10,50,100]\n",
    "}\n",
    "grid_xgb = GridSearchCV(xgb_model, param_grid_xgb, cv=5, n_jobs=6)\n",
    "np.random.seed(SEED)\n",
    "grid_xgb.fit(X_train_, y_train)"
   ]
  },
  {
   "cell_type": "code",
   "execution_count": null,
   "metadata": {},
   "outputs": [],
   "source": [
    "grid_xgb.best_params_"
   ]
  },
  {
   "cell_type": "code",
   "execution_count": null,
   "metadata": {},
   "outputs": [],
   "source": [
    "def fx_xgb(x):\n",
    "    return(grid_xgb.predict(x))"
   ]
  },
  {
   "cell_type": "code",
   "execution_count": null,
   "metadata": {},
   "outputs": [],
   "source": [
    "fig, ax = plt.subplots(1, 1, figsize=(PLOT_SIZE, PLOT_SIZE/2))\n",
    "\n",
    "#ax.plot(x, f_x)\n",
    "fx_plot = fx_xgb(x.reshape(-1, 1))\n",
    "ax.plot(x, fx_plot)\n",
    "ax.scatter(X_test, y_test, color='red')\n",
    "\n",
    "ax.set_xlabel('x')\n",
    "ax.set_ylabel('y')\n",
    "\n",
    "plt.show()"
   ]
  },
  {
   "cell_type": "code",
   "execution_count": null,
   "metadata": {},
   "outputs": [],
   "source": [
    "fx_test_xgb = fx_xgb(X_test_)\n",
    "rmse_xgb = mean_squared_error(y_test, fx_test_xgb, squared=False)\n",
    "print('RMSE (Baseline): ' + str(round(rmse_baseline, 3)))\n",
    "print('RMSE (Linear Regression): ' + str(round(rmse_lr, 3)))\n",
    "print('RMSE (Quadratic Regression): ' + str(round(rmse_qr, 3)))\n",
    "print('RMSE (Polynomial Regression): ' + str(round(rmse_gpr, 3)))\n",
    "print('RMSE (Elastic Net): ' + str(round(rmse_en, 3)))\n",
    "print('RMSE (XGBoost): ' + str(round(rmse_xgb, 3)))"
   ]
  },
  {
   "cell_type": "markdown",
   "metadata": {},
   "source": [
    "## Wrapping Up..."
   ]
  },
  {
   "cell_type": "code",
   "execution_count": null,
   "metadata": {},
   "outputs": [],
   "source": [
    "model_names = [\n",
    "    'Baseline',\n",
    "    'Linear Regression',\n",
    "    'Quadratic Regression',\n",
    "    'Polynomial Regression',\n",
    "    'Elastic Net',\n",
    "    'XGBoost'\n",
    "]\n",
    "\n",
    "rmses = [\n",
    "    rmse_baseline,\n",
    "    rmse_lr,\n",
    "    rmse_qr,\n",
    "    rmse_gpr,\n",
    "    rmse_en,\n",
    "    rmse_xgb \n",
    "]\n",
    "\n",
    "fig, ax = plt.subplots(1, 1, figsize=(PLOT_SIZE, 0.4 * PLOT_SIZE))\n",
    "\n",
    "ax.bar(model_names, rmses)\n",
    "ax.set_ylabel('rmse')\n",
    "\n",
    "plt.show()"
   ]
  },
  {
   "cell_type": "markdown",
   "metadata": {},
   "source": [
    "### How can we know if there is still room to improve the model?"
   ]
  },
  {
   "cell_type": "code",
   "execution_count": null,
   "metadata": {},
   "outputs": [],
   "source": [
    "model_names = [\n",
    "    'Baseline',\n",
    "    'Linear Regression',\n",
    "    'Quadratic Regression',\n",
    "    'Polynomial Regression',\n",
    "    'Elastic Net',\n",
    "    'XGBoost'\n",
    "]\n",
    "\n",
    "model_predictions = [\n",
    "    fx_test_baseline,\n",
    "    fx_test_lr,\n",
    "    fx_test_qr,\n",
    "    fx_test_gpr,\n",
    "    fx_test_en,\n",
    "    fx_test_xgb\n",
    "]\n",
    "\n",
    "K = len(model_names)\n",
    "\n",
    "fig, ax = plt.subplots(3, 2, figsize=(PLOT_SIZE, 0.7 * PLOT_SIZE))\n",
    "\n",
    "for k in np.arange(K):\n",
    "    \n",
    "    i = int(np.floor(k/2))\n",
    "    j = int(k % 2)\n",
    "    y_pred = model_predictions[k]\n",
    "    model = model_names[k]\n",
    "    \n",
    "    ax[i,j].scatter(X_test, y_test - y_pred)\n",
    "    ax[i,j].set_ylabel('y')\n",
    "    ax[i,j].set_title(model)\n",
    "    ax[i,j].axhline(y=0, color = 'black', alpha = 0.5)\n",
    "    ax[i,j].set_ylim(-5,5)\n",
    "\n",
    "plt.show()"
   ]
  },
  {
   "cell_type": "code",
   "execution_count": null,
   "metadata": {},
   "outputs": [],
   "source": [
    "model_names = [\n",
    "    'Baseline',\n",
    "    'Linear Regression',\n",
    "    'Quadratic Regression',\n",
    "    'Polynomial Regression',\n",
    "    'Elastic Net',\n",
    "    'XGBoost'\n",
    "]\n",
    "\n",
    "model_fxs = [\n",
    "    [fx_baseline(x) for x in x],\n",
    "    fx_lr(x.reshape(-1, 1)),\n",
    "    fx_qr(x.reshape(-1, 1)),\n",
    "    fx_gpr(x.reshape(-1, 1)),\n",
    "    fx_en(x.reshape(-1, 1)),\n",
    "    fx_xgb(x.reshape(-1, 1))\n",
    "]\n",
    "\n",
    "K = len(model_names)\n",
    "\n",
    "fig, ax = plt.subplots(3, 2, figsize=(PLOT_SIZE, 0.7 * PLOT_SIZE))\n",
    "\n",
    "for k in np.arange(K):\n",
    "    \n",
    "    i = int(np.floor(k/2))\n",
    "    j = int(k % 2)\n",
    "    fx = model_fxs[k]\n",
    "    model = model_names[k]\n",
    "    \n",
    "    ax[i,j].plot(x, fx)\n",
    "    ax[i,j].plot(x, true_function(x))\n",
    "    ax[i,j].set_ylabel('y')\n",
    "    ax[i,j].set_title(model)\n",
    "    ax[i,j].set_ylim(-5,5)\n",
    "\n",
    "plt.show()"
   ]
  },
  {
   "cell_type": "code",
   "execution_count": null,
   "metadata": {},
   "outputs": [],
   "source": [
    "model_names = [\n",
    "    'Baseline',\n",
    "    'Linear Regression',\n",
    "    'Quadratic Regression',\n",
    "    'Polynomial Regression',\n",
    "    'Elastic Net',\n",
    "    'XGBoost'\n",
    "]\n",
    "\n",
    "x_extended = np.arange(x_min - 5, x_max + 5, 0.1)\n",
    "\n",
    "model_fxs = [\n",
    "    [fx_baseline(x) for x in x_extended],\n",
    "    fx_lr(x_extended.reshape(-1, 1)),\n",
    "    fx_qr(x_extended.reshape(-1, 1)),\n",
    "    fx_gpr(x_extended.reshape(-1, 1)),\n",
    "    fx_en(x_extended.reshape(-1, 1)),\n",
    "    fx_xgb(x_extended.reshape(-1, 1))\n",
    "]\n",
    "\n",
    "K = len(model_names)\n",
    "\n",
    "fig, ax = plt.subplots(3, 2, figsize=(PLOT_SIZE, 0.7 * PLOT_SIZE))\n",
    "\n",
    "for k in np.arange(K):\n",
    "    \n",
    "    i = int(np.floor(k/2))\n",
    "    j = int(k % 2)\n",
    "    fx = model_fxs[k]\n",
    "    model = model_names[k]\n",
    "    \n",
    "    ax[i,j].plot(x_extended, fx)\n",
    "    ax[i,j].plot(x_extended, true_function(x_extended))\n",
    "    ax[i,j].axvline(x=x_min, color = 'black', alpha = 0.2)\n",
    "    ax[i,j].axvline(x=x_max, color = 'black', alpha = 0.2)\n",
    "    ax[i,j].set_xlabel('x')\n",
    "    ax[i,j].set_ylabel('y')\n",
    "    ax[i,j].set_title(model)\n",
    "    ax[i,j].set_ylim(-10,10)\n",
    "\n",
    "plt.show()"
   ]
  },
  {
   "cell_type": "code",
   "execution_count": null,
   "metadata": {},
   "outputs": [],
   "source": []
  }
 ],
 "metadata": {
  "kernelspec": {
   "display_name": "Python 3",
   "language": "python",
   "name": "python3"
  },
  "language_info": {
   "codemirror_mode": {
    "name": "ipython",
    "version": 3
   },
   "file_extension": ".py",
   "mimetype": "text/x-python",
   "name": "python",
   "nbconvert_exporter": "python",
   "pygments_lexer": "ipython3",
   "version": "3.7.1"
  }
 },
 "nbformat": 4,
 "nbformat_minor": 2
}
