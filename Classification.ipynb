{
 "cells": [
  {
   "cell_type": "code",
   "execution_count": null,
   "id": "gross-spray",
   "metadata": {},
   "outputs": [],
   "source": [
    "import pandas as pd\n",
    "import numpy as np\n",
    "import matplotlib.pyplot as plt\n",
    "import itertools\n",
    "\n",
    "from scipy.stats import mode\n",
    "\n",
    "from sklearn.model_selection import train_test_split, GridSearchCV\n",
    "from sklearn.metrics import roc_auc_score\n",
    "from sklearn.pipeline import make_pipeline\n",
    "from sklearn.preprocessing import StandardScaler, PolynomialFeatures\n",
    "from sklearn.linear_model import LogisticRegression\n",
    "from sklearn.svm import LinearSVC, SVC\n",
    "from sklearn.ensemble import RandomForestClassifier, GradientBoostingClassifier\n",
    "\n",
    "#conda install -c conda-forge imbalanced-learn\n",
    "from imblearn.over_sampling import RandomOverSampler\n",
    "from imblearn.pipeline import make_pipeline as make_imb_pipeline"
   ]
  },
  {
   "cell_type": "code",
   "execution_count": null,
   "id": "mature-server",
   "metadata": {},
   "outputs": [],
   "source": [
    "PLOT_SIZE = 16\n",
    "SAMPLE_SIZE = 2000\n",
    "SEED = 2022\n",
    "RADIUS = 0.3\n",
    "ACCURACY = 0.95"
   ]
  },
  {
   "cell_type": "code",
   "execution_count": null,
   "id": "alternative-declaration",
   "metadata": {},
   "outputs": [],
   "source": [
    "def true_function(x1,x2,r=RADIUS):\n",
    "    if((x1-1.5)**2 + (x2-1)**2 < r or (x1-0.5)**2 + (x2-0.5)**2 < 2 * r or (x1+1)**2 + (x2+1)**2 < 0.5 * r):\n",
    "        return(1)\n",
    "    else:\n",
    "        return(0)"
   ]
  },
  {
   "cell_type": "code",
   "execution_count": null,
   "id": "optimum-latitude",
   "metadata": {},
   "outputs": [],
   "source": [
    "x1_min = -2.5\n",
    "x1_max = 2.5\n",
    "x2_min = -2.5\n",
    "x2_max = 2.5"
   ]
  },
  {
   "cell_type": "code",
   "execution_count": null,
   "id": "available-dinner",
   "metadata": {},
   "outputs": [],
   "source": [
    "x1 = np.arange(x1_min, x1_max, 0.01)\n",
    "x2 = np.arange(x2_min, x2_max, 0.01)\n",
    "coordinates = np.array([x for x in itertools.product(x1,x2)])\n",
    "f_x = [true_function(x1,x2) for x1,x2 in coordinates]\n",
    "x1 = [x1 for x1,x2 in coordinates]\n",
    "x2 = [x2 for x1,x2 in coordinates]"
   ]
  },
  {
   "cell_type": "code",
   "execution_count": null,
   "id": "unavailable-commonwealth",
   "metadata": {},
   "outputs": [],
   "source": [
    "fig, ax = plt.subplots(1, 1, figsize=(1.1 * PLOT_SIZE/2, PLOT_SIZE/2))\n",
    "\n",
    "plt.scatter(x1, x2, c=f_x, vmin=0, vmax=1)\n",
    "plt.colorbar()\n",
    "\n",
    "plt.xlim(x1_min, x1_max)\n",
    "plt.ylim(x2_min, x2_max)\n",
    "\n",
    "plt.show()"
   ]
  },
  {
   "cell_type": "code",
   "execution_count": null,
   "id": "received-wells",
   "metadata": {},
   "outputs": [],
   "source": [
    "def add_noise(x):\n",
    "    x = np.array(x)\n",
    "    return(np.where(\n",
    "        np.random.uniform(size=len(x)) <= ACCURACY,\n",
    "        x,\n",
    "        1-x\n",
    "    ))"
   ]
  },
  {
   "cell_type": "code",
   "execution_count": null,
   "id": "embedded-preference",
   "metadata": {},
   "outputs": [],
   "source": [
    "np.random.seed(seed=SEED)\n",
    "idx = np.random.choice(len(coordinates),SAMPLE_SIZE)\n",
    "coordinates_ = np.array(coordinates)[idx]\n",
    "x1_ = [x1 for x1,x2 in coordinates_]\n",
    "x2_ = [x2 for x1,x2 in coordinates_]\n",
    "f_x_ = [true_function(x1,x2) for x1,x2 in coordinates]\n",
    "\n",
    "y_ = add_noise([true_function(x1,x2) for x1,x2 in coordinates_])"
   ]
  },
  {
   "cell_type": "code",
   "execution_count": null,
   "id": "geographic-candidate",
   "metadata": {},
   "outputs": [],
   "source": [
    "fig, ax = plt.subplots(1, 1, figsize=(PLOT_SIZE/2, PLOT_SIZE/2))\n",
    "\n",
    "ax.scatter(x1_,x2_,c=y_,marker = 'x')\n",
    "\n",
    "plt.xlim(x1_min, x1_max)\n",
    "plt.ylim(x2_min, x2_max)\n",
    "\n",
    "plt.show()"
   ]
  },
  {
   "cell_type": "markdown",
   "id": "chubby-registrar",
   "metadata": {},
   "source": [
    "# Split train and test"
   ]
  },
  {
   "cell_type": "code",
   "execution_count": null,
   "id": "premier-investigator",
   "metadata": {},
   "outputs": [],
   "source": [
    "X_train, X_test, y_train, y_test = train_test_split(\n",
    "    coordinates_,\n",
    "    y_,\n",
    "    stratify = y_, \n",
    "    random_state=SEED+1)"
   ]
  },
  {
   "cell_type": "code",
   "execution_count": null,
   "id": "dangerous-single",
   "metadata": {},
   "outputs": [],
   "source": [
    "fig, ax = plt.subplots(1, 2, figsize=(PLOT_SIZE, PLOT_SIZE/2))\n",
    "\n",
    "#ax.plot(x, f_x)\n",
    "ax[0].scatter(X_train[:,0], X_train[:,1], c=y_train, marker='x')\n",
    "ax[0].set_xlabel('x1')\n",
    "ax[0].set_ylabel('x2')\n",
    "ax[0].set_title('Train')\n",
    "\n",
    "ax[1].scatter(X_test[:,0], X_test[:,1], c=y_test, marker='x')\n",
    "ax[1].set_xlabel('x1')\n",
    "ax[1].set_ylabel('x2')\n",
    "ax[0].set_title('Test')\n",
    "\n",
    "plt.show()"
   ]
  },
  {
   "cell_type": "markdown",
   "id": "reflected-blank",
   "metadata": {},
   "source": [
    "# Modeling"
   ]
  },
  {
   "cell_type": "markdown",
   "id": "creative-microphone",
   "metadata": {},
   "source": [
    "## Baseline"
   ]
  },
  {
   "cell_type": "code",
   "execution_count": null,
   "id": "advisory-crown",
   "metadata": {},
   "outputs": [],
   "source": [
    "proportion = np.mean(y_train)\n",
    "\n",
    "def fx_baseline(x1,x2):\n",
    "    return(proportion)"
   ]
  },
  {
   "cell_type": "code",
   "execution_count": null,
   "id": "compact-castle",
   "metadata": {},
   "outputs": [],
   "source": [
    "fig, ax = plt.subplots(1, 1, figsize=(1.1* PLOT_SIZE/2, PLOT_SIZE/2))\n",
    "\n",
    "fx_plot = [fx_baseline(x1,x2) for x1, x2 in coordinates]\n",
    "plt.scatter(x1, x2, c=fx_plot, vmin=0, vmax=1, alpha=0.01)\n",
    "plt.scatter(X_test[:,0], X_test[:,1], c=y_test, marker='x')\n",
    "plt.colorbar()\n",
    "\n",
    "ax.set_xlabel('x1')\n",
    "ax.set_ylabel('x2')\n",
    "\n",
    "plt.show()"
   ]
  },
  {
   "cell_type": "code",
   "execution_count": null,
   "id": "available-memorabilia",
   "metadata": {},
   "outputs": [],
   "source": [
    "fx_test_baseline = [fx_baseline(x1,x2) for x1,x2 in X_test]\n",
    "auc_baseline = roc_auc_score(y_test, fx_test_baseline)\n",
    "print('AUC (Baseline): ' + str(round(auc_baseline, 2)))"
   ]
  },
  {
   "cell_type": "markdown",
   "id": "internal-unknown",
   "metadata": {},
   "source": [
    "## Logistic Model"
   ]
  },
  {
   "cell_type": "markdown",
   "id": "swedish-attraction",
   "metadata": {},
   "source": [
    "### Naive Approach"
   ]
  },
  {
   "cell_type": "code",
   "execution_count": null,
   "id": "frozen-hartford",
   "metadata": {},
   "outputs": [],
   "source": [
    "logistic_model = make_pipeline(StandardScaler(), LogisticRegression())"
   ]
  },
  {
   "cell_type": "code",
   "execution_count": null,
   "id": "artistic-paint",
   "metadata": {},
   "outputs": [],
   "source": [
    "logistic_model.fit(X_train, y_train)"
   ]
  },
  {
   "cell_type": "code",
   "execution_count": null,
   "id": "aggressive-motel",
   "metadata": {},
   "outputs": [],
   "source": [
    "def fx_lm(x):\n",
    "    return(logistic_model.predict_proba(x))"
   ]
  },
  {
   "cell_type": "code",
   "execution_count": null,
   "id": "suitable-confidence",
   "metadata": {},
   "outputs": [],
   "source": [
    "fig, ax = plt.subplots(1, 1, figsize=(1.1* PLOT_SIZE/2, PLOT_SIZE/2))\n",
    "\n",
    "fx_plot = fx_lm(coordinates)[:,1]\n",
    "plt.scatter(x1, x2, c=fx_plot, vmin=0, vmax=1, alpha = 0.01)\n",
    "plt.scatter(X_test[:,0], X_test[:,1], c=y_test, marker='x')\n",
    "plt.colorbar()\n",
    "\n",
    "ax.set_xlabel('x1')\n",
    "ax.set_ylabel('x2')\n",
    "\n",
    "plt.show()"
   ]
  },
  {
   "cell_type": "code",
   "execution_count": null,
   "id": "fuzzy-orbit",
   "metadata": {},
   "outputs": [],
   "source": [
    "fx_test_logistic_naive = fx_lm(X_test)[:,1]\n",
    "auc_logistic_naive = roc_auc_score(y_test, fx_test_logistic_naive)\n",
    "print('AUC (Baseline): ' + str(round(auc_baseline, 2)))\n",
    "print('AUC (Logistic - Naive): ' + str(round(auc_logistic_naive, 2)))"
   ]
  },
  {
   "cell_type": "markdown",
   "id": "authorized-protocol",
   "metadata": {},
   "source": [
    "### Optimize Polynomial "
   ]
  },
  {
   "cell_type": "code",
   "execution_count": null,
   "id": "wooden-advocacy",
   "metadata": {},
   "outputs": [],
   "source": [
    "logistic_polynomial_model = make_imb_pipeline(\n",
    "    StandardScaler(),\n",
    "    #RandomOverSampler(), \n",
    "    PolynomialFeatures(degree=20, interaction_only=False),\n",
    "    LogisticRegression(max_iter = 1e4))\n",
    "param_grid_logistic_polynomial = [{'polynomialfeatures__degree': np.arange(4,10,2),\n",
    "                        'logisticregression__C': np.logspace(-2, 2, 5)}]\n",
    "grid_logistic_polynomial = GridSearchCV(logistic_polynomial_model, param_grid_logistic_polynomial, cv=5, scoring='roc_auc', refit='roc_auc')\n",
    "np.random.seed(SEED)\n",
    "grid_logistic_polynomial.fit(X_train, y_train)"
   ]
  },
  {
   "cell_type": "code",
   "execution_count": null,
   "id": "through-variety",
   "metadata": {},
   "outputs": [],
   "source": [
    "grid_logistic_polynomial.best_params_"
   ]
  },
  {
   "cell_type": "code",
   "execution_count": null,
   "id": "allied-mounting",
   "metadata": {},
   "outputs": [],
   "source": [
    "def fx_lm(x):\n",
    "    return(grid_logistic_polynomial.predict_proba(x))"
   ]
  },
  {
   "cell_type": "code",
   "execution_count": null,
   "id": "armed-service",
   "metadata": {},
   "outputs": [],
   "source": [
    "fig, ax = plt.subplots(1, 1, figsize=(1.1* PLOT_SIZE/2, PLOT_SIZE/2))\n",
    "\n",
    "fx_plot = fx_lm(coordinates)[:,1]\n",
    "plt.scatter(x1, x2, c=fx_plot, vmin=0, vmax=1, alpha = 0.01)\n",
    "plt.scatter(X_test[:,0], X_test[:,1], c=y_test, marker='x')\n",
    "plt.colorbar()\n",
    "\n",
    "ax.set_xlabel('x1')\n",
    "ax.set_ylabel('x2')\n",
    "\n",
    "plt.show()"
   ]
  },
  {
   "cell_type": "code",
   "execution_count": null,
   "id": "ready-patient",
   "metadata": {},
   "outputs": [],
   "source": [
    "fx_test_logistic_polynomial = fx_lm(X_test)[:,1]\n",
    "auc_logistic_polynomial = roc_auc_score(y_test, fx_test_logistic_polynomial)\n",
    "print('AUC (Baseline): ' + str(round(auc_baseline, 2)))\n",
    "print('AUC (Logistic - Naive): ' + str(round(auc_logistic_naive, 2)))\n",
    "print('AUC (Logistic - Polynomial): ' + str(round(auc_logistic_polynomial, 2)))"
   ]
  },
  {
   "cell_type": "markdown",
   "id": "boxed-inventory",
   "metadata": {},
   "source": [
    "### Balance Data"
   ]
  },
  {
   "cell_type": "code",
   "execution_count": null,
   "id": "optimum-america",
   "metadata": {},
   "outputs": [],
   "source": [
    "logistic_model = make_imb_pipeline(\n",
    "    StandardScaler(),\n",
    "    RandomOverSampler(), \n",
    "    PolynomialFeatures(degree=20, interaction_only=False),\n",
    "    LogisticRegression(max_iter = 1e5))\n",
    "param_grid_logistic = [{'polynomialfeatures__degree': np.arange(4,10,2),\n",
    "                        'logisticregression__C': np.logspace(-2, 2, 5)}]\n",
    "grid_logistic = GridSearchCV(logistic_model, param_grid_logistic, cv=5, scoring='roc_auc', refit='roc_auc')\n",
    "np.random.seed(SEED)\n",
    "grid_logistic.fit(X_train, y_train)"
   ]
  },
  {
   "cell_type": "code",
   "execution_count": null,
   "id": "constant-employment",
   "metadata": {},
   "outputs": [],
   "source": [
    "def fx_lm(x):\n",
    "    return(grid_logistic.predict_proba(x))"
   ]
  },
  {
   "cell_type": "code",
   "execution_count": null,
   "id": "super-classics",
   "metadata": {},
   "outputs": [],
   "source": [
    "fig, ax = plt.subplots(1, 1, figsize=(1.1* PLOT_SIZE/2, PLOT_SIZE/2))\n",
    "\n",
    "fx_plot = fx_lm(coordinates)[:,1]\n",
    "plt.scatter(x1, x2, c=fx_plot, vmin=0, vmax=1, alpha = 0.01)\n",
    "plt.scatter(X_test[:,0], X_test[:,1], c=y_test, marker='x')\n",
    "plt.colorbar()\n",
    "\n",
    "ax.set_xlabel('x1')\n",
    "ax.set_ylabel('x2')\n",
    "\n",
    "plt.show()"
   ]
  },
  {
   "cell_type": "code",
   "execution_count": null,
   "id": "overhead-landscape",
   "metadata": {},
   "outputs": [],
   "source": [
    "fx_test_logistic = fx_lm(X_test)[:,1]\n",
    "auc_logistic = roc_auc_score(y_test, fx_test_logistic)\n",
    "print('AUC (Baseline): ' + str(round(auc_baseline, 2)))\n",
    "print('AUC (Logistic - Naive): ' + str(round(auc_logistic_naive, 2)))\n",
    "print('AUC (Logistic - Polynomial): ' + str(round(auc_logistic_polynomial, 2)))\n",
    "print('AUC (Logistic - Balanced): ' + str(round(auc_logistic, 2)))"
   ]
  },
  {
   "cell_type": "markdown",
   "id": "attached-lounge",
   "metadata": {},
   "source": [
    "## SVM"
   ]
  },
  {
   "cell_type": "markdown",
   "id": "wound-recipe",
   "metadata": {},
   "source": [
    "### Linear SVM"
   ]
  },
  {
   "cell_type": "code",
   "execution_count": null,
   "id": "reserved-worse",
   "metadata": {},
   "outputs": [],
   "source": [
    "linearsvm_model = make_imb_pipeline(StandardScaler(), RandomOverSampler(), LinearSVC(max_iter = 1e4))\n",
    "param_grid_linearsvm = {'linearsvc__C': np.logspace(-3, 3, 13)}\n",
    "grid_linearsvm = GridSearchCV(linearsvm_model, param_grid_linearsvm, cv=5, scoring='roc_auc', refit='roc_auc')\n",
    "np.random.seed(SEED)\n",
    "grid_linearsvm.fit(X_train, y_train)"
   ]
  },
  {
   "cell_type": "code",
   "execution_count": null,
   "id": "behavioral-magnet",
   "metadata": {},
   "outputs": [],
   "source": [
    "grid_linearsvm.best_params_"
   ]
  },
  {
   "cell_type": "code",
   "execution_count": null,
   "id": "charming-constant",
   "metadata": {},
   "outputs": [],
   "source": [
    "def fx_linearsvc(x):\n",
    "    return(grid_linearsvm.predict(x))"
   ]
  },
  {
   "cell_type": "code",
   "execution_count": null,
   "id": "lovely-emperor",
   "metadata": {},
   "outputs": [],
   "source": [
    "fig, ax = plt.subplots(1, 1, figsize=(1.1* PLOT_SIZE/2, PLOT_SIZE/2))\n",
    "\n",
    "fx_plot = fx_linearsvc(coordinates)\n",
    "plt.scatter(x1, x2, c=fx_plot, vmin=0, vmax=1, alpha = 0.005)\n",
    "plt.scatter(X_test[:,0], X_test[:,1], c=y_test, marker='x')\n",
    "plt.colorbar()\n",
    "\n",
    "ax.set_xlabel('x1')\n",
    "ax.set_ylabel('x2')\n",
    "\n",
    "plt.show()"
   ]
  },
  {
   "cell_type": "code",
   "execution_count": null,
   "id": "superb-return",
   "metadata": {},
   "outputs": [],
   "source": [
    "fx_test_linearsvc = fx_linearsvc(X_test)\n",
    "auc_linearsvc = roc_auc_score(y_test, fx_test_linearsvc)\n",
    "print('AUC (Baseline): ' + str(round(auc_baseline, 2)))\n",
    "print('AUC (Logistic): ' + str(round(auc_logistic, 2)))\n",
    "print('AUC (Linear SVC): ' + str(round(auc_linearsvc, 2)))"
   ]
  },
  {
   "cell_type": "markdown",
   "id": "environmental-reaction",
   "metadata": {},
   "source": [
    "### Other Kernels "
   ]
  },
  {
   "cell_type": "code",
   "execution_count": null,
   "id": "composite-occasions",
   "metadata": {},
   "outputs": [],
   "source": [
    "svm_model = make_imb_pipeline(StandardScaler(), RandomOverSampler(), SVC(probability = True, max_iter = 1e4))\n",
    "param_grid_svm = [{'svc__C': np.logspace(-2, 2, 5),\n",
    "                   'svc__kernel': ['poly', 'rbf', 'sigmoid']}]\n",
    "grid_svm = GridSearchCV(svm_model, param_grid_svm, cv=5, scoring='roc_auc', refit='roc_auc')\n",
    "np.random.seed(SEED)\n",
    "grid_svm.fit(X_train, y_train)"
   ]
  },
  {
   "cell_type": "code",
   "execution_count": null,
   "id": "eleven-tennessee",
   "metadata": {},
   "outputs": [],
   "source": [
    "grid_svm.best_params_"
   ]
  },
  {
   "cell_type": "code",
   "execution_count": null,
   "id": "narrative-music",
   "metadata": {},
   "outputs": [],
   "source": [
    "def fx_svc(x):\n",
    "    return(grid_svm.predict_proba(x))"
   ]
  },
  {
   "cell_type": "code",
   "execution_count": null,
   "id": "bigger-injury",
   "metadata": {},
   "outputs": [],
   "source": [
    "fig, ax = plt.subplots(1, 1, figsize=(1.1* PLOT_SIZE/2, PLOT_SIZE/2))\n",
    "\n",
    "fx_plot = fx_svc(coordinates)[:,1]\n",
    "plt.scatter(x1, x2, c=fx_plot, vmin=0, vmax=1, alpha = 0.01)\n",
    "plt.scatter(X_test[:,0], X_test[:,1], c=y_test, marker='x')\n",
    "plt.colorbar()\n",
    "\n",
    "ax.set_xlabel('x1')\n",
    "ax.set_ylabel('x2')\n",
    "\n",
    "plt.show()"
   ]
  },
  {
   "cell_type": "code",
   "execution_count": null,
   "id": "interim-accordance",
   "metadata": {},
   "outputs": [],
   "source": [
    "fx_test_svc = fx_svc(X_test)[:,1]\n",
    "auc_svc = roc_auc_score(y_test, fx_test_svc)\n",
    "print('AUC (Baseline): ' + str(round(auc_baseline, 2)))\n",
    "print('AUC (Logistic): ' + str(round(auc_logistic, 2)))\n",
    "print('AUC (Linear SVM): ' + str(round(auc_linearsvc, 2)))\n",
    "print('AUC (SVM): ' + str(round(auc_svc, 2)))"
   ]
  },
  {
   "cell_type": "markdown",
   "id": "handed-designation",
   "metadata": {},
   "source": [
    "## Random Forest"
   ]
  },
  {
   "cell_type": "code",
   "execution_count": null,
   "id": "orange-architect",
   "metadata": {},
   "outputs": [],
   "source": [
    "rf_model = make_imb_pipeline(\n",
    "    RandomOverSampler(),\n",
    "    PolynomialFeatures(degree=20, interaction_only=False),\n",
    "    StandardScaler(),\n",
    "    RandomForestClassifier(warm_start=True, random_state=0)\n",
    ")\n",
    "param_grid_rf = [{'randomforestclassifier__max_leaf_nodes':range(20, 60, 10),\n",
    "                  'polynomialfeatures__degree': np.arange(0,8,2)}]\n",
    "grid_rf = GridSearchCV(rf_model, param_grid_rf, cv=5, scoring='roc_auc', refit='roc_auc')\n",
    "np.random.seed(SEED)\n",
    "grid_rf.fit(X_train, y_train)"
   ]
  },
  {
   "cell_type": "code",
   "execution_count": null,
   "id": "maritime-roller",
   "metadata": {},
   "outputs": [],
   "source": [
    "grid_rf.best_params_"
   ]
  },
  {
   "cell_type": "code",
   "execution_count": null,
   "id": "steady-fellow",
   "metadata": {},
   "outputs": [],
   "source": [
    "def fx_rf(x):\n",
    "    return(grid_rf.predict_proba(x))"
   ]
  },
  {
   "cell_type": "code",
   "execution_count": null,
   "id": "earned-camping",
   "metadata": {},
   "outputs": [],
   "source": [
    "fig, ax = plt.subplots(1, 1, figsize=(1.1* PLOT_SIZE/2, PLOT_SIZE/2))\n",
    "\n",
    "fx_plot = fx_rf(coordinates)[:,1]\n",
    "plt.scatter(x1, x2, c=fx_plot, vmin=0, vmax=1, alpha = 0.01)\n",
    "plt.scatter(X_test[:,0], X_test[:,1], c=y_test, marker='x')\n",
    "plt.colorbar()\n",
    "\n",
    "ax.set_xlabel('x1')\n",
    "ax.set_ylabel('x2')\n",
    "\n",
    "plt.show()"
   ]
  },
  {
   "cell_type": "code",
   "execution_count": null,
   "id": "sacred-samuel",
   "metadata": {},
   "outputs": [],
   "source": [
    "fx_test_rf = fx_rf(X_test)[:,1]\n",
    "auc_rf = roc_auc_score(y_test, fx_test_rf)\n",
    "print('AUC (Baseline): ' + str(round(auc_baseline, 2)))\n",
    "print('AUC (Logistic): ' + str(round(auc_logistic, 2)))\n",
    "print('AUC (SVM): ' + str(round(auc_svc, 2)))\n",
    "print('AUC (Random Forests): ' + str(round(auc_rf, 2)))"
   ]
  },
  {
   "cell_type": "markdown",
   "id": "acceptable-stuff",
   "metadata": {},
   "source": [
    "## Gradient Boosting"
   ]
  },
  {
   "cell_type": "code",
   "execution_count": null,
   "id": "iraqi-benchmark",
   "metadata": {},
   "outputs": [],
   "source": [
    "gb_model = make_imb_pipeline(\n",
    "    RandomOverSampler(),\n",
    "    PolynomialFeatures(degree=20, interaction_only=False),\n",
    "    StandardScaler(),\n",
    "    GradientBoostingClassifier()\n",
    ")\n",
    "param_grid_gb = [{'gradientboostingclassifier__learning_rate': np.logspace(-2, 0, 5),\n",
    "                  'polynomialfeatures__degree': np.arange(2,8,2)}]\n",
    "grid_gb = GridSearchCV(gb_model, param_grid_gb, cv=5, scoring='roc_auc', refit='roc_auc')\n",
    "np.random.seed(SEED)\n",
    "grid_gb.fit(X_train, y_train)"
   ]
  },
  {
   "cell_type": "code",
   "execution_count": null,
   "id": "naval-probe",
   "metadata": {},
   "outputs": [],
   "source": [
    "grid_gb.best_params_"
   ]
  },
  {
   "cell_type": "code",
   "execution_count": null,
   "id": "consolidated-butter",
   "metadata": {},
   "outputs": [],
   "source": [
    "def fx_gb(x):\n",
    "    return(grid_gb.predict_proba(x))"
   ]
  },
  {
   "cell_type": "code",
   "execution_count": null,
   "id": "exciting-editor",
   "metadata": {},
   "outputs": [],
   "source": [
    "fig, ax = plt.subplots(1, 1, figsize=(1.1* PLOT_SIZE/2, PLOT_SIZE/2))\n",
    "\n",
    "fx_plot = fx_gb(coordinates)[:,1]\n",
    "plt.scatter(x1, x2, c=fx_plot, vmin=0, vmax=1, alpha = 0.01)\n",
    "plt.scatter(X_test[:,0], X_test[:,1], c=y_test, marker='x')\n",
    "plt.colorbar()\n",
    "\n",
    "ax.set_xlabel('x1')\n",
    "ax.set_ylabel('x2')\n",
    "\n",
    "plt.show()"
   ]
  },
  {
   "cell_type": "code",
   "execution_count": null,
   "id": "olympic-attendance",
   "metadata": {},
   "outputs": [],
   "source": [
    "fx_test_gb = fx_gb(X_test)[:,1]\n",
    "auc_gb = roc_auc_score(y_test, fx_test_gb)\n",
    "print('AUC (Baseline): ' + str(round(auc_baseline, 2)))\n",
    "print('AUC (Logistic): ' + str(round(auc_logistic, 2)))\n",
    "print('AUC (SVM): ' + str(round(auc_svc, 2)))\n",
    "print('AUC (Random Forests): ' + str(round(auc_rf, 2)))\n",
    "print('AUC (Gradient Boosting): ' + str(round(auc_gb, 2)))"
   ]
  },
  {
   "cell_type": "markdown",
   "id": "alternate-assist",
   "metadata": {},
   "source": [
    "## Wrapping Up..."
   ]
  },
  {
   "cell_type": "code",
   "execution_count": null,
   "id": "finite-march",
   "metadata": {},
   "outputs": [],
   "source": [
    "model_names = [\n",
    "    'True function',\n",
    "    'Baseline',\n",
    "    'Logistic',\n",
    "    'SVM',\n",
    "    'Random Forests',\n",
    "    'Gradient Boosting'\n",
    "]\n",
    "\n",
    "model_fxs = [\n",
    "    [true_function(x1,x2) for x1,x2 in coordinates],\n",
    "    [fx_baseline(x1,x2) for x1, x2 in coordinates],\n",
    "    fx_lm(coordinates)[:,1],\n",
    "    fx_svc(coordinates)[:,1],\n",
    "    fx_rf(coordinates)[:,1],\n",
    "    fx_gb(coordinates)[:,1]\n",
    "]\n",
    "\n",
    "K = len(model_names)\n",
    "\n",
    "fig, ax = plt.subplots(3, 2, figsize=(PLOT_SIZE/2, PLOT_SIZE/2))\n",
    "\n",
    "for k in np.arange(K):\n",
    "    \n",
    "    i = int(np.floor(k/2))\n",
    "    j = int(k % 2)\n",
    "    fx = model_fxs[k]\n",
    "    model = model_names[k]\n",
    "    \n",
    "    ax[i,j].scatter(x1, x2, c=fx, vmin=0, vmax=1, alpha = 0.01)\n",
    "    ax[i,j].set_ylabel('x2')\n",
    "    ax[i,j].set_title(model)\n",
    "\n",
    "fig.tight_layout()\n",
    "plt.show()"
   ]
  },
  {
   "cell_type": "code",
   "execution_count": null,
   "id": "technical-formula",
   "metadata": {},
   "outputs": [],
   "source": [
    "x1_extended = np.arange(x1_min - 2, x1_max + 2, 0.01)\n",
    "x2_extended = np.arange(x2_min - 2, x2_max + 2, 0.01)\n",
    "coordinates_extended = np.array([x for x in itertools.product(x1_extended,x2_extended)])\n",
    "x1_extended = [x1 for x1,x2 in coordinates_extended]\n",
    "x2_extended = [x2 for x1,x2 in coordinates_extended]\n",
    "\n",
    "model_names = [\n",
    "    'True function',\n",
    "    'Baseline',\n",
    "    'Logistic',\n",
    "    'SVM',\n",
    "    'Random Forests',\n",
    "    'Gradient Boosting'\n",
    "]\n",
    "\n",
    "model_fxs = [\n",
    "    [true_function(x1,x2) for x1,x2 in coordinates_extended],\n",
    "    [fx_baseline(x1,x2) for x1, x2 in coordinates_extended],\n",
    "    fx_lm(coordinates_extended)[:,1],\n",
    "    fx_svc(coordinates_extended)[:,1],\n",
    "    fx_rf(coordinates_extended)[:,1],\n",
    "    fx_gb(coordinates_extended)[:,1]\n",
    "]\n",
    "\n",
    "K = len(model_names)\n",
    "\n",
    "fig, ax = plt.subplots(3, 2, figsize=(PLOT_SIZE/2, PLOT_SIZE/2))\n",
    "\n",
    "for k in np.arange(K):\n",
    "    \n",
    "    i = int(np.floor(k/2))\n",
    "    j = int(k % 2)\n",
    "    fx = model_fxs[k]\n",
    "    model = model_names[k]\n",
    "    \n",
    "    ax[i,j].scatter(x1_extended, x2_extended, c=fx, vmin=0, vmax=1, alpha = 0.01)\n",
    "    ax[i,j].set_ylabel('x2')\n",
    "    ax[i,j].set_title(model)\n",
    "\n",
    "fig.tight_layout()\n",
    "plt.show()"
   ]
  },
  {
   "cell_type": "code",
   "execution_count": null,
   "id": "stretch-somerset",
   "metadata": {},
   "outputs": [],
   "source": []
  }
 ],
 "metadata": {
  "kernelspec": {
   "display_name": "Python 3",
   "language": "python",
   "name": "python3"
  },
  "language_info": {
   "codemirror_mode": {
    "name": "ipython",
    "version": 3
   },
   "file_extension": ".py",
   "mimetype": "text/x-python",
   "name": "python",
   "nbconvert_exporter": "python",
   "pygments_lexer": "ipython3",
   "version": "3.7.1"
  }
 },
 "nbformat": 4,
 "nbformat_minor": 5
}
