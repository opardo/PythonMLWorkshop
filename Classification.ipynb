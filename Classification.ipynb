{
 "cells": [
  {
   "cell_type": "code",
   "execution_count": null,
   "id": "pointed-induction",
   "metadata": {},
   "outputs": [],
   "source": [
    "import pandas as pd\n",
    "import numpy as np\n",
    "import matplotlib.pyplot as plt\n",
    "import itertools\n",
    "\n",
    "from scipy.stats import mode\n",
    "\n",
    "from sklearn.model_selection import train_test_split, GridSearchCV\n",
    "from sklearn.metrics import roc_auc_score\n",
    "from sklearn.pipeline import make_pipeline\n",
    "from sklearn.preprocessing import StandardScaler, PolynomialFeatures\n",
    "from sklearn.linear_model import LogisticRegression\n",
    "from sklearn.svm import LinearSVC, SVC\n",
    "from sklearn.ensemble import RandomForestClassifier, GradientBoostingClassifier\n",
    "\n",
    "#conda install -c conda-forge imbalanced-learn\n",
    "from imblearn.over_sampling import RandomOverSampler\n",
    "from imblearn.pipeline import make_pipeline as make_imb_pipeline"
   ]
  },
  {
   "cell_type": "code",
   "execution_count": null,
   "id": "removable-coordinator",
   "metadata": {},
   "outputs": [],
   "source": [
    "PLOT_SIZE = 16\n",
    "SAMPLE_SIZE = 2000\n",
    "SEED = 2022\n",
    "RADIUS = 0.3\n",
    "ACCURACY = 0.95"
   ]
  },
  {
   "cell_type": "code",
   "execution_count": null,
   "id": "annoying-albany",
   "metadata": {},
   "outputs": [],
   "source": [
    "def true_function(x1,x2,r=RADIUS):\n",
    "    if((x1-1.5)**2 + (x2-1)**2 < r or (x1-0.5)**2 + (x2-0.5)**2 < 2 * r or (x1+1)**2 + (x2+1)**2 < 0.5 * r):\n",
    "        return(1)\n",
    "    else:\n",
    "        return(0)"
   ]
  },
  {
   "cell_type": "code",
   "execution_count": null,
   "id": "average-album",
   "metadata": {},
   "outputs": [],
   "source": [
    "x1_min = -2.5\n",
    "x1_max = 2.5\n",
    "x2_min = -2.5\n",
    "x2_max = 2.5"
   ]
  },
  {
   "cell_type": "code",
   "execution_count": null,
   "id": "verbal-large",
   "metadata": {},
   "outputs": [],
   "source": [
    "x1 = np.arange(x1_min, x1_max, 0.01)\n",
    "x2 = np.arange(x2_min, x2_max, 0.01)\n",
    "coordinates = np.array([x for x in itertools.product(x1,x2)])\n",
    "f_x = [true_function(x1,x2) for x1,x2 in coordinates]\n",
    "x1 = [x1 for x1,x2 in coordinates]\n",
    "x2 = [x2 for x1,x2 in coordinates]"
   ]
  },
  {
   "cell_type": "code",
   "execution_count": null,
   "id": "heard-classics",
   "metadata": {},
   "outputs": [],
   "source": [
    "fig, ax = plt.subplots(1, 1, figsize=(1.1 * PLOT_SIZE/2, PLOT_SIZE/2))\n",
    "\n",
    "plt.scatter(x1, x2, c=f_x, vmin=0, vmax=1)\n",
    "plt.colorbar()\n",
    "\n",
    "plt.xlim(x1_min, x1_max)\n",
    "plt.ylim(x2_min, x2_max)\n",
    "\n",
    "plt.show()"
   ]
  },
  {
   "cell_type": "code",
   "execution_count": null,
   "id": "fatty-battlefield",
   "metadata": {},
   "outputs": [],
   "source": [
    "def add_noise(x):\n",
    "    x = np.array(x)\n",
    "    return(np.where(\n",
    "        np.random.uniform(size=len(x)) <= ACCURACY,\n",
    "        x,\n",
    "        1-x\n",
    "    ))"
   ]
  },
  {
   "cell_type": "code",
   "execution_count": null,
   "id": "dietary-iceland",
   "metadata": {},
   "outputs": [],
   "source": [
    "np.random.seed(seed=SEED)\n",
    "idx = np.random.choice(len(coordinates),SAMPLE_SIZE)\n",
    "coordinates_ = np.array(coordinates)[idx]\n",
    "x1_ = [x1 for x1,x2 in coordinates_]\n",
    "x2_ = [x2 for x1,x2 in coordinates_]\n",
    "f_x_ = [true_function(x1,x2) for x1,x2 in coordinates]\n",
    "\n",
    "y_ = add_noise([true_function(x1,x2) for x1,x2 in coordinates_])"
   ]
  },
  {
   "cell_type": "code",
   "execution_count": null,
   "id": "capital-florida",
   "metadata": {},
   "outputs": [],
   "source": [
    "fig, ax = plt.subplots(1, 1, figsize=(PLOT_SIZE/2, PLOT_SIZE/2))\n",
    "\n",
    "ax.scatter(x1_,x2_,c=y_,marker = 'x')\n",
    "\n",
    "plt.xlim(x1_min, x1_max)\n",
    "plt.ylim(x2_min, x2_max)\n",
    "\n",
    "plt.show()"
   ]
  },
  {
   "cell_type": "markdown",
   "id": "casual-expansion",
   "metadata": {},
   "source": [
    "# Split train and test"
   ]
  },
  {
   "cell_type": "code",
   "execution_count": null,
   "id": "sunrise-mountain",
   "metadata": {},
   "outputs": [],
   "source": [
    "X_train, X_test, y_train, y_test = train_test_split(\n",
    "    coordinates_,\n",
    "    y_,\n",
    "    stratify = y_, \n",
    "    random_state=SEED+1)"
   ]
  },
  {
   "cell_type": "code",
   "execution_count": null,
   "id": "blocked-portrait",
   "metadata": {},
   "outputs": [],
   "source": [
    "fig, ax = plt.subplots(1, 2, figsize=(PLOT_SIZE, PLOT_SIZE/2))\n",
    "\n",
    "#ax.plot(x, f_x)\n",
    "ax[0].scatter(X_train[:,0], X_train[:,1], c=y_train, marker='x')\n",
    "ax[0].set_xlabel('x1')\n",
    "ax[0].set_ylabel('x2')\n",
    "ax[0].set_title('Train')\n",
    "\n",
    "ax[1].scatter(X_test[:,0], X_test[:,1], c=y_test, marker='x')\n",
    "ax[1].set_xlabel('x1')\n",
    "ax[1].set_ylabel('x2')\n",
    "ax[0].set_title('Test')\n",
    "\n",
    "plt.show()"
   ]
  },
  {
   "cell_type": "markdown",
   "id": "champion-astronomy",
   "metadata": {},
   "source": [
    "# Modeling"
   ]
  },
  {
   "cell_type": "markdown",
   "id": "descending-trance",
   "metadata": {},
   "source": [
    "## Baseline"
   ]
  },
  {
   "cell_type": "code",
   "execution_count": null,
   "id": "documentary-keeping",
   "metadata": {},
   "outputs": [],
   "source": [
    "proportion = np.mean(y_train)\n",
    "\n",
    "def fx_baseline(x1,x2):\n",
    "    return(proportion)"
   ]
  },
  {
   "cell_type": "code",
   "execution_count": null,
   "id": "operating-excess",
   "metadata": {},
   "outputs": [],
   "source": [
    "fig, ax = plt.subplots(1, 1, figsize=(1.1* PLOT_SIZE/2, PLOT_SIZE/2))\n",
    "\n",
    "fx_plot = [fx_baseline(x1,x2) for x1, x2 in coordinates]\n",
    "plt.scatter(x1, x2, c=fx_plot, vmin=0, vmax=1, alpha=0.01)\n",
    "plt.scatter(X_test[:,0], X_test[:,1], c=y_test, marker='x')\n",
    "plt.colorbar()\n",
    "\n",
    "ax.set_xlabel('x1')\n",
    "ax.set_ylabel('x2')\n",
    "\n",
    "plt.show()"
   ]
  },
  {
   "cell_type": "code",
   "execution_count": null,
   "id": "grand-magazine",
   "metadata": {},
   "outputs": [],
   "source": [
    "fx_test_baseline = [fx_baseline(x1,x2) for x1,x2 in X_test]\n",
    "auc_baseline = roc_auc_score(y_test, fx_test_baseline)\n",
    "print('AUC (Baseline): ' + str(round(auc_baseline, 2)))"
   ]
  },
  {
   "cell_type": "markdown",
   "id": "genetic-guide",
   "metadata": {},
   "source": [
    "## Logistic Model"
   ]
  },
  {
   "cell_type": "markdown",
   "id": "round-fusion",
   "metadata": {},
   "source": [
    "### Naive Approach"
   ]
  },
  {
   "cell_type": "code",
   "execution_count": null,
   "id": "useful-vertex",
   "metadata": {},
   "outputs": [],
   "source": [
    "logistic_model = make_pipeline(StandardScaler(), LogisticRegression())"
   ]
  },
  {
   "cell_type": "code",
   "execution_count": null,
   "id": "limited-paste",
   "metadata": {},
   "outputs": [],
   "source": [
    "logistic_model.fit(X_train, y_train)"
   ]
  },
  {
   "cell_type": "code",
   "execution_count": null,
   "id": "matched-macro",
   "metadata": {},
   "outputs": [],
   "source": [
    "def fx_lm(x):\n",
    "    return(logistic_model.predict_proba(x))"
   ]
  },
  {
   "cell_type": "code",
   "execution_count": null,
   "id": "computational-cedar",
   "metadata": {},
   "outputs": [],
   "source": [
    "fig, ax = plt.subplots(1, 1, figsize=(1.1* PLOT_SIZE/2, PLOT_SIZE/2))\n",
    "\n",
    "fx_plot = fx_lm(coordinates)[:,1]\n",
    "plt.scatter(x1, x2, c=fx_plot, vmin=0, vmax=1, alpha = 0.01)\n",
    "plt.scatter(X_test[:,0], X_test[:,1], c=y_test, marker='x')\n",
    "plt.colorbar()\n",
    "\n",
    "ax.set_xlabel('x1')\n",
    "ax.set_ylabel('x2')\n",
    "\n",
    "plt.show()"
   ]
  },
  {
   "cell_type": "code",
   "execution_count": null,
   "id": "significant-principal",
   "metadata": {},
   "outputs": [],
   "source": [
    "fx_test_logistic_naive = fx_lm(X_test)[:,1]\n",
    "auc_logistic_naive = roc_auc_score(y_test, fx_test_logistic_naive)\n",
    "print('AUC (Baseline): ' + str(round(auc_baseline, 2)))\n",
    "print('AUC (Logistic - Naive): ' + str(round(auc_logistic_naive, 2)))"
   ]
  },
  {
   "cell_type": "markdown",
   "id": "forward-accommodation",
   "metadata": {},
   "source": [
    "### Optimize Polynomial "
   ]
  },
  {
   "cell_type": "code",
   "execution_count": null,
   "id": "contained-tennessee",
   "metadata": {},
   "outputs": [],
   "source": [
    "logistic_polynomial_model = make_imb_pipeline(\n",
    "    StandardScaler(),\n",
    "    #RandomOverSampler(), \n",
    "    PolynomialFeatures(degree=20, interaction_only=False),\n",
    "    LogisticRegression(max_iter = 1e4))\n",
    "param_grid_logistic_polynomial = [{'polynomialfeatures__degree': np.arange(4,10,2),\n",
    "                        'logisticregression__C': np.logspace(-2, 2, 5)}]\n",
    "grid_logistic_polynomial = GridSearchCV(logistic_polynomial_model, param_grid_logistic_polynomial, cv=5, scoring='roc_auc', refit='roc_auc')\n",
    "np.random.seed(SEED)\n",
    "grid_logistic_polynomial.fit(X_train, y_train)"
   ]
  },
  {
   "cell_type": "code",
   "execution_count": null,
   "id": "coordinated-reporter",
   "metadata": {},
   "outputs": [],
   "source": [
    "grid_logistic_polynomial.best_params_"
   ]
  },
  {
   "cell_type": "code",
   "execution_count": null,
   "id": "imported-sydney",
   "metadata": {},
   "outputs": [],
   "source": [
    "def fx_lm(x):\n",
    "    return(grid_logistic_polynomial.predict_proba(x))"
   ]
  },
  {
   "cell_type": "code",
   "execution_count": null,
   "id": "threaded-change",
   "metadata": {},
   "outputs": [],
   "source": [
    "fig, ax = plt.subplots(1, 1, figsize=(1.1* PLOT_SIZE/2, PLOT_SIZE/2))\n",
    "\n",
    "fx_plot = fx_lm(coordinates)[:,1]\n",
    "plt.scatter(x1, x2, c=fx_plot, vmin=0, vmax=1, alpha = 0.01)\n",
    "plt.scatter(X_test[:,0], X_test[:,1], c=y_test, marker='x')\n",
    "plt.colorbar()\n",
    "\n",
    "ax.set_xlabel('x1')\n",
    "ax.set_ylabel('x2')\n",
    "\n",
    "plt.show()"
   ]
  },
  {
   "cell_type": "code",
   "execution_count": null,
   "id": "earned-memorabilia",
   "metadata": {},
   "outputs": [],
   "source": [
    "fx_test_logistic_polynomial = fx_lm(X_test)[:,1]\n",
    "auc_logistic_polynomial = roc_auc_score(y_test, fx_test_logistic_polynomial)\n",
    "print('AUC (Baseline): ' + str(round(auc_baseline, 2)))\n",
    "print('AUC (Logistic - Naive): ' + str(round(auc_logistic_naive, 2)))\n",
    "print('AUC (Logistic - Polynomial): ' + str(round(auc_logistic_polynomial, 2)))"
   ]
  },
  {
   "cell_type": "markdown",
   "id": "stylish-thriller",
   "metadata": {},
   "source": [
    "### Balance Data"
   ]
  },
  {
   "cell_type": "code",
   "execution_count": null,
   "id": "facial-series",
   "metadata": {},
   "outputs": [],
   "source": [
    "logistic_model = make_imb_pipeline(\n",
    "    StandardScaler(),\n",
    "    RandomOverSampler(), \n",
    "    PolynomialFeatures(degree=20, interaction_only=False),\n",
    "    LogisticRegression(max_iter = 1e5))\n",
    "param_grid_logistic = [{'polynomialfeatures__degree': np.arange(4,10,2),\n",
    "                        'logisticregression__C': np.logspace(-2, 2, 5)}]\n",
    "grid_logistic = GridSearchCV(logistic_model, param_grid_logistic, cv=5, scoring='roc_auc', refit='roc_auc')\n",
    "np.random.seed(SEED)\n",
    "grid_logistic.fit(X_train, y_train)"
   ]
  },
  {
   "cell_type": "code",
   "execution_count": null,
   "id": "unlimited-navigation",
   "metadata": {},
   "outputs": [],
   "source": [
    "def fx_lm(x):\n",
    "    return(grid_logistic.predict_proba(x))"
   ]
  },
  {
   "cell_type": "code",
   "execution_count": null,
   "id": "looking-discussion",
   "metadata": {},
   "outputs": [],
   "source": [
    "fig, ax = plt.subplots(1, 1, figsize=(1.1* PLOT_SIZE/2, PLOT_SIZE/2))\n",
    "\n",
    "fx_plot = fx_lm(coordinates)[:,1]\n",
    "plt.scatter(x1, x2, c=fx_plot, vmin=0, vmax=1, alpha = 0.01)\n",
    "plt.scatter(X_test[:,0], X_test[:,1], c=y_test, marker='x')\n",
    "plt.colorbar()\n",
    "\n",
    "ax.set_xlabel('x1')\n",
    "ax.set_ylabel('x2')\n",
    "\n",
    "plt.show()"
   ]
  },
  {
   "cell_type": "code",
   "execution_count": null,
   "id": "loose-omaha",
   "metadata": {},
   "outputs": [],
   "source": [
    "fx_test_logistic = fx_lm(X_test)[:,1]\n",
    "auc_logistic = roc_auc_score(y_test, fx_test_logistic)\n",
    "print('AUC (Baseline): ' + str(round(auc_baseline, 2)))\n",
    "print('AUC (Logistic - Naive): ' + str(round(auc_logistic_naive, 2)))\n",
    "print('AUC (Logistic - Polynomial): ' + str(round(auc_logistic_polynomial, 2)))\n",
    "print('AUC (Logistic - Balanced): ' + str(round(auc_logistic, 2)))"
   ]
  },
  {
   "cell_type": "markdown",
   "id": "efficient-safety",
   "metadata": {},
   "source": [
    "## SVM"
   ]
  },
  {
   "cell_type": "code",
   "execution_count": null,
   "id": "korean-diamond",
   "metadata": {},
   "outputs": [],
   "source": [
    "### Linear SVM"
   ]
  },
  {
   "cell_type": "code",
   "execution_count": null,
   "id": "defined-baltimore",
   "metadata": {},
   "outputs": [],
   "source": [
    "linearsvm_model = make_imb_pipeline(StandardScaler(), RandomOverSampler(), LinearSVC(max_iter = 1e4))\n",
    "param_grid_linearsvm = {'linearsvc__C': np.logspace(-3, 3, 13)}\n",
    "grid_linearsvm = GridSearchCV(linearsvm_model, param_grid_linearsvm, cv=5, scoring='roc_auc', refit='roc_auc')\n",
    "np.random.seed(SEED)\n",
    "grid_linearsvm.fit(X_train, y_train)"
   ]
  },
  {
   "cell_type": "code",
   "execution_count": null,
   "id": "double-preserve",
   "metadata": {},
   "outputs": [],
   "source": [
    "grid_linearsvm.best_params_"
   ]
  },
  {
   "cell_type": "code",
   "execution_count": null,
   "id": "liable-sympathy",
   "metadata": {},
   "outputs": [],
   "source": [
    "def fx_linearsvc(x):\n",
    "    return(grid_linearsvm.predict(x))"
   ]
  },
  {
   "cell_type": "code",
   "execution_count": null,
   "id": "floral-scale",
   "metadata": {},
   "outputs": [],
   "source": [
    "fig, ax = plt.subplots(1, 1, figsize=(1.1* PLOT_SIZE/2, PLOT_SIZE/2))\n",
    "\n",
    "fx_plot = fx_linearsvc(coordinates)\n",
    "plt.scatter(x1, x2, c=fx_plot, vmin=0, vmax=1, alpha = 0.005)\n",
    "plt.scatter(X_test[:,0], X_test[:,1], c=y_test, marker='x')\n",
    "plt.colorbar()\n",
    "\n",
    "ax.set_xlabel('x1')\n",
    "ax.set_ylabel('x2')\n",
    "\n",
    "plt.show()"
   ]
  },
  {
   "cell_type": "code",
   "execution_count": null,
   "id": "direct-extension",
   "metadata": {},
   "outputs": [],
   "source": [
    "fx_test_linearsvc = fx_linearsvc(X_test)\n",
    "auc_linearsvc = roc_auc_score(y_test, fx_test_linearsvc)\n",
    "print('AUC (Baseline): ' + str(round(auc_baseline, 2)))\n",
    "print('AUC (Logistic): ' + str(round(auc_logistic, 2)))\n",
    "print('AUC (Linear SVC): ' + str(round(auc_linearsvc, 2)))"
   ]
  },
  {
   "cell_type": "markdown",
   "id": "informative-demonstration",
   "metadata": {},
   "source": [
    "### Other Kernels "
   ]
  },
  {
   "cell_type": "code",
   "execution_count": null,
   "id": "decreased-italic",
   "metadata": {},
   "outputs": [],
   "source": [
    "svm_model = make_imb_pipeline(StandardScaler(), RandomOverSampler(), SVC(probability = True, max_iter = 1e4))\n",
    "param_grid_svm = [{'svc__C': np.logspace(-2, 2, 5),\n",
    "                   'svc__kernel': ['poly', 'rbf', 'sigmoid']}]\n",
    "grid_svm = GridSearchCV(svm_model, param_grid_svm, cv=5, scoring='roc_auc', refit='roc_auc')\n",
    "np.random.seed(SEED)\n",
    "grid_svm.fit(X_train, y_train)"
   ]
  },
  {
   "cell_type": "code",
   "execution_count": null,
   "id": "ancient-palmer",
   "metadata": {},
   "outputs": [],
   "source": [
    "grid_svm.best_params_"
   ]
  },
  {
   "cell_type": "code",
   "execution_count": null,
   "id": "adjacent-sheriff",
   "metadata": {},
   "outputs": [],
   "source": [
    "def fx_svc(x):\n",
    "    return(grid_svm.predict_proba(x))"
   ]
  },
  {
   "cell_type": "code",
   "execution_count": null,
   "id": "large-schedule",
   "metadata": {},
   "outputs": [],
   "source": [
    "fig, ax = plt.subplots(1, 1, figsize=(1.1* PLOT_SIZE/2, PLOT_SIZE/2))\n",
    "\n",
    "fx_plot = fx_svc(coordinates)[:,1]\n",
    "plt.scatter(x1, x2, c=fx_plot, vmin=0, vmax=1, alpha = 0.01)\n",
    "plt.scatter(X_test[:,0], X_test[:,1], c=y_test, marker='x')\n",
    "plt.colorbar()\n",
    "\n",
    "ax.set_xlabel('x1')\n",
    "ax.set_ylabel('x2')\n",
    "\n",
    "plt.show()"
   ]
  },
  {
   "cell_type": "code",
   "execution_count": null,
   "id": "sunset-soldier",
   "metadata": {},
   "outputs": [],
   "source": [
    "fx_test_svc = fx_svc(X_test)[:,1]\n",
    "auc_svc = roc_auc_score(y_test, fx_test_svc)\n",
    "print('AUC (Baseline): ' + str(round(auc_baseline, 2)))\n",
    "print('AUC (Logistic): ' + str(round(auc_logistic, 2)))\n",
    "print('AUC (Linear SVM): ' + str(round(auc_linearsvc, 2)))\n",
    "print('AUC (SVM): ' + str(round(auc_svc, 2)))"
   ]
  },
  {
   "cell_type": "markdown",
   "id": "unauthorized-pharmacy",
   "metadata": {},
   "source": [
    "## Random Forest"
   ]
  },
  {
   "cell_type": "code",
   "execution_count": null,
   "id": "governing-symphony",
   "metadata": {},
   "outputs": [],
   "source": [
    "rf_model = make_imb_pipeline(\n",
    "    RandomOverSampler(),\n",
    "    PolynomialFeatures(degree=20, interaction_only=False),\n",
    "    StandardScaler(),\n",
    "    RandomForestClassifier(warm_start=True, random_state=0)\n",
    ")\n",
    "param_grid_rf = [{'randomforestclassifier__max_leaf_nodes':range(20, 60, 10),\n",
    "                  'polynomialfeatures__degree': np.arange(0,8,2)}]\n",
    "grid_rf = GridSearchCV(rf_model, param_grid_rf, cv=5, scoring='roc_auc', refit='roc_auc')\n",
    "np.random.seed(SEED)\n",
    "grid_rf.fit(X_train, y_train)"
   ]
  },
  {
   "cell_type": "code",
   "execution_count": null,
   "id": "ultimate-mouth",
   "metadata": {},
   "outputs": [],
   "source": [
    "grid_rf.best_params_"
   ]
  },
  {
   "cell_type": "code",
   "execution_count": null,
   "id": "emerging-grove",
   "metadata": {},
   "outputs": [],
   "source": [
    "def fx_rf(x):\n",
    "    return(grid_rf.predict_proba(x))"
   ]
  },
  {
   "cell_type": "code",
   "execution_count": null,
   "id": "derived-grain",
   "metadata": {},
   "outputs": [],
   "source": [
    "fig, ax = plt.subplots(1, 1, figsize=(1.1* PLOT_SIZE/2, PLOT_SIZE/2))\n",
    "\n",
    "fx_plot = fx_rf(coordinates)[:,1]\n",
    "plt.scatter(x1, x2, c=fx_plot, vmin=0, vmax=1, alpha = 0.01)\n",
    "plt.scatter(X_test[:,0], X_test[:,1], c=y_test, marker='x')\n",
    "plt.colorbar()\n",
    "\n",
    "ax.set_xlabel('x1')\n",
    "ax.set_ylabel('x2')\n",
    "\n",
    "plt.show()"
   ]
  },
  {
   "cell_type": "code",
   "execution_count": null,
   "id": "joint-inclusion",
   "metadata": {},
   "outputs": [],
   "source": [
    "fx_test_rf = fx_rf(X_test)[:,1]\n",
    "auc_rf = roc_auc_score(y_test, fx_test_rf)\n",
    "print('AUC (Baseline): ' + str(round(auc_baseline, 2)))\n",
    "print('AUC (Logistic): ' + str(round(auc_logistic, 2)))\n",
    "print('AUC (SVM): ' + str(round(auc_svc, 2)))\n",
    "print('AUC (Random Forests): ' + str(round(auc_rf, 2)))"
   ]
  },
  {
   "cell_type": "markdown",
   "id": "diagnostic-runner",
   "metadata": {},
   "source": [
    "## Gradient Boosting"
   ]
  },
  {
   "cell_type": "code",
   "execution_count": null,
   "id": "shared-server",
   "metadata": {},
   "outputs": [],
   "source": [
    "gb_model = make_imb_pipeline(\n",
    "    RandomOverSampler(),\n",
    "    PolynomialFeatures(degree=20, interaction_only=False),\n",
    "    StandardScaler(),\n",
    "    GradientBoostingClassifier()\n",
    ")\n",
    "param_grid_gb = [{'gradientboostingclassifier__learning_rate': np.logspace(-2, 0, 5),\n",
    "                  'polynomialfeatures__degree': np.arange(2,8,2)}]\n",
    "grid_gb = GridSearchCV(gb_model, param_grid_gb, cv=5, scoring='roc_auc', refit='roc_auc')\n",
    "np.random.seed(SEED)\n",
    "grid_gb.fit(X_train, y_train)"
   ]
  },
  {
   "cell_type": "code",
   "execution_count": null,
   "id": "electric-baseball",
   "metadata": {},
   "outputs": [],
   "source": [
    "grid_gb.best_params_"
   ]
  },
  {
   "cell_type": "code",
   "execution_count": null,
   "id": "caring-responsibility",
   "metadata": {},
   "outputs": [],
   "source": [
    "def fx_gb(x):\n",
    "    return(grid_gb.predict_proba(x))"
   ]
  },
  {
   "cell_type": "code",
   "execution_count": null,
   "id": "sensitive-portsmouth",
   "metadata": {},
   "outputs": [],
   "source": [
    "fig, ax = plt.subplots(1, 1, figsize=(1.1* PLOT_SIZE/2, PLOT_SIZE/2))\n",
    "\n",
    "fx_plot = fx_gb(coordinates)[:,1]\n",
    "plt.scatter(x1, x2, c=fx_plot, vmin=0, vmax=1, alpha = 0.01)\n",
    "plt.scatter(X_test[:,0], X_test[:,1], c=y_test, marker='x')\n",
    "plt.colorbar()\n",
    "\n",
    "ax.set_xlabel('x1')\n",
    "ax.set_ylabel('x2')\n",
    "\n",
    "plt.show()"
   ]
  },
  {
   "cell_type": "code",
   "execution_count": null,
   "id": "interim-looking",
   "metadata": {},
   "outputs": [],
   "source": [
    "fx_test_gb = fx_gb(X_test)[:,1]\n",
    "auc_gb = roc_auc_score(y_test, fx_test_gb)\n",
    "print('AUC (Baseline): ' + str(round(auc_baseline, 2)))\n",
    "print('AUC (Logistic): ' + str(round(auc_logistic, 2)))\n",
    "print('AUC (SVM): ' + str(round(auc_svc, 2)))\n",
    "print('AUC (Random Forests): ' + str(round(auc_rf, 2)))\n",
    "print('AUC (Gradient Boosting): ' + str(round(auc_gb, 2)))"
   ]
  },
  {
   "cell_type": "code",
   "execution_count": null,
   "id": "brilliant-ambassador",
   "metadata": {},
   "outputs": [],
   "source": []
  }
 ],
 "metadata": {
  "kernelspec": {
   "display_name": "Python 3",
   "language": "python",
   "name": "python3"
  },
  "language_info": {
   "codemirror_mode": {
    "name": "ipython",
    "version": 3
   },
   "file_extension": ".py",
   "mimetype": "text/x-python",
   "name": "python",
   "nbconvert_exporter": "python",
   "pygments_lexer": "ipython3",
   "version": "3.7.1"
  }
 },
 "nbformat": 4,
 "nbformat_minor": 5
}
